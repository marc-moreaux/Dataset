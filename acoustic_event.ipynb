{
 "cells": [
  {
   "cell_type": "markdown",
   "metadata": {},
   "source": [
    "# Acoustic Event Dataset"
   ]
  },
  {
   "cell_type": "markdown",
   "metadata": {},
   "source": [
    "### Download DB"
   ]
  },
  {
   "cell_type": "code",
   "execution_count": null,
   "metadata": {
    "collapsed": true
   },
   "outputs": [],
   "source": [
    "%%bash\n",
    "wget https://data.vision.ee.ethz.ch/cvl/ae_dataset/ae_dataset.zip\n",
    "unzip ae_dataset.zip\n",
    "cd AudioEventDataset/"
   ]
  },
  {
   "cell_type": "markdown",
   "metadata": {},
   "source": [
    "### Wav to np arrays"
   ]
  },
  {
   "cell_type": "code",
   "execution_count": 10,
   "metadata": {},
   "outputs": [
    {
     "name": "stdout",
     "output_type": "stream",
     "text": [
      "./AudioEventDataset/train/\n",
      "./AudioEventDataset/train/acoustic_guitar\n",
      "./AudioEventDataset/train/airplane\n",
      "./AudioEventDataset/train/applause\n",
      "./AudioEventDataset/train/bird\n",
      "./AudioEventDataset/train/car\n",
      "./AudioEventDataset/train/cat\n",
      "./AudioEventDataset/train/child\n",
      "./AudioEventDataset/train/church_bell\n",
      "./AudioEventDataset/train/crowd\n",
      "./AudioEventDataset/train/dog_barking\n",
      "./AudioEventDataset/train/engine\n",
      "./AudioEventDataset/train/fireworks\n",
      "./AudioEventDataset/train/footstep\n",
      "./AudioEventDataset/train/glass_breaking\n",
      "./AudioEventDataset/train/hammer\n",
      "./AudioEventDataset/train/helicopter\n",
      "./AudioEventDataset/train/knock\n",
      "./AudioEventDataset/train/laughter\n",
      "./AudioEventDataset/train/mouse_click\n",
      "./AudioEventDataset/train/ocean_surf\n",
      "./AudioEventDataset/train/rustle\n",
      "./AudioEventDataset/train/scream\n",
      "./AudioEventDataset/train/speech_fs\n",
      "./AudioEventDataset/train/squeak\n",
      "./AudioEventDataset/train/tone\n",
      "./AudioEventDataset/train/violin\n",
      "./AudioEventDataset/train/water_tap\n",
      "./AudioEventDataset/train/whistle\n"
     ]
    },
    {
     "data": {
      "image/png": "[encoded data removed]",
      "text/plain": [
       "<matplotlib.figure.Figure at 0x7ff70bca4450>"
      ]
     },
     "metadata": {},
     "output_type": "display_data"
    }
   ],
   "source": [
    "import scipy.io.wavfile\n",
    "import sounddevice as sd\n",
    "import matplotlib.pyplot as plt\n",
    "import os\n",
    "\n",
    "\n",
    "database = []\n",
    "for root, dirs, files in sorted(os.walk(\"./AudioEventDataset/train/\")):\n",
    "    print root\n",
    "    wav_files = [f for f in files if f[-4:] == '.wav']\n",
    "    for wav_file in wav_files:\n",
    "        file_name = wav_file[:-4]\n",
    "        audio = scipy.io.wavfile.read(root + \"/\" + wav_file)[1]\n",
    "        database.append((audio, file_name))\n",
    "\n",
    "sd.play(audio, 16000)\n",
    "plt.plot(audio)\n",
    "plt.show()"
   ]
  }
 ],
 "metadata": {
  "kernelspec": {
   "display_name": "Python 2",
   "language": "python",
   "name": "python2"
  },
  "language_info": {
   "codemirror_mode": {
    "name": "ipython",
    "version": 2
   },
   "file_extension": ".py",
   "mimetype": "text/x-python",
   "name": "python",
   "nbconvert_exporter": "python",
   "pygments_lexer": "ipython2",
   "version": "2.7.6"
  }
 },
 "nbformat": 4,
 "nbformat_minor": 2
}
